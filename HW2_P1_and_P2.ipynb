{
 "cells": [
  {
   "cell_type": "code",
   "execution_count": 1,
   "id": "6f7ab710",
   "metadata": {},
   "outputs": [],
   "source": [
    "from math import *\n",
    "import numpy as np\n",
    "import matplotlib.pyplot as plt"
   ]
  },
  {
   "cell_type": "markdown",
   "id": "decddf85",
   "metadata": {},
   "source": [
    "**Exercise 6.10:** Consider the equation $x = 1 - e^{-c x}$, where $c$ is a known parameter and $x$ is unknown. This equation arises in a variety of situations, including the physics of contact processes, mathematical models of epidemics, and the theory of random graphs.  \n",
    "\n",
    "a) Write a program to solve this equation for $x$ using the relaxation method for the case $c = 2$. Calculate your solution to an accuracy of at least $10^{-6}$.  \n",
    "\n",
    "b) Modify your program to calculate the solution for values of $c$ from $0$ to $3$ in steps of $0.01$ and make a plot of $x$ as a function of $c$. You should see a clear transition from a regime in which $x=0$ to a regime of nonzero $x$."
   ]
  },
  {
   "cell_type": "code",
   "execution_count": 2,
   "id": "74f4de1d",
   "metadata": {},
   "outputs": [
    {
     "name": "stdout",
     "output_type": "stream",
     "text": [
      "0.864665\n",
      "0.822597\n",
      "0.807025\n",
      "0.800920\n",
      "0.798475\n",
      "0.797487\n",
      "0.797086\n",
      "0.796923\n",
      "0.796857\n",
      "0.796831\n",
      "0.796820\n",
      "0.796815\n",
      "0.796813\n",
      "\n",
      "Converges to 0.796813 with error tolerance of 1e-06.\n"
     ]
    },
    {
     "data": {
      "image/png": "[encoded data removed]",
      "text/plain": [
       "<Figure size 640x480 with 1 Axes>"
      ]
     },
     "metadata": {},
     "output_type": "display_data"
    }
   ],
   "source": [
    "# 6.10a ---------------------------------------------------\n",
    "def function_610(x_i, c=2):\n",
    "    return 1 - exp(-c*x_i)\n",
    "\n",
    "# Relaxation method\n",
    "# x = initial guess\n",
    "# f = function\n",
    "# etol = error tolerance\n",
    "def relaxation(f, x, etol):\n",
    "    while np.abs((f(x)-x)/f(x)) > etol:\n",
    "        x = f(x)\n",
    "        print(f\"{x:.6f}\")\n",
    "    print(f\"\\nConverges to {x:.6f} with error tolerance of {etol}.\")\n",
    "    \n",
    "x = 1 # initial guess\n",
    "etol=1e-6 # define tolerance\n",
    "relaxation(function_610, x, etol)\n",
    "\n",
    "# 6.10b ---------------------------------------------------\n",
    "c_iter = np.arange(0, 3, 0.01).tolist()\n",
    "x = [1]*len(c_iter)\n",
    "for i, c in enumerate(c_iter):\n",
    "    for _ in range(15):\n",
    "        x[i] = 1 - np.exp(-c * x[i])\n",
    "\n",
    "# Plot\n",
    "plt.plot(c_iter, x)\n",
    "plt.grid()\n",
    "plt.ylabel(\"$x = 1 - e^{-c x}$\")\n",
    "plt.xlabel(\"$c$ iterations\")\n",
    "plt.title(\"$x$ as a function of $c$\")\n",
    "plt.show()"
   ]
  },
  {
   "cell_type": "markdown",
   "id": "4f6b81e4",
   "metadata": {},
   "source": [
    "**Exercise 6.11: Overrelaxation**\n",
    "\n",
    "If you did not already do Exercise 6.10, you should do it before this one.  \n",
    "\n",
    "The ordinary relaxation method involves iterating the equation $x' = f(x)$, starting from an initial guess, until it converges. As we have seen, this is often a fast and easy way to find solutions to nonlinear equations. However, it is possible in some cases to make the method work even faster using the technique of *overrelaxation*. Suppose our initial guess at the solution of a particular equation is, say, $x = 1$, and the final, true solution is $x = 5$. After the first step of the iterative process, we might then see a value of, say, $x = 3$. In the overrelaxation method, we observe this value and note that $x$ is increasing, then we deliberately overshoot the calculated value, in the hope that this will get us closer to the final solution—in this case we might pass over $x = 3$ and go straight to a value of $x = 4$ perhaps, which is closer to the final solution of $x = 5$ and hence should get us to that solution quicker. The overrelaxation method provides a formula for performing this kind of overshooting in a controlled fashion and often, though not always, it does get us to our solution faster.  \n",
    "\n",
    "In detail, it works as follows. We can rewrite the equation $x' = f(x)$ in the form $x' = x + \\Delta x$, where  \n",
    "\n",
    "$$\n",
    "\\Delta x = x' - x = f(x) - x.\n",
    "$$\n",
    "\n",
    "The overrelaxation method involves iteration of the modified equation  \n",
    "\n",
    "$$\n",
    "x' = x + (1 + \\omega)\\,\\Delta x,\n",
    "$$  \n",
    "\n",
    "(keeping the definition of $\\Delta x$ the same). If the parameter $\\omega$ is zero, then this is the same as the ordinary relaxation method, but for $\\omega > 0$ the method takes the amount $\\Delta x$ by which the value of $x$ would have been changed and changes by a little more. Using $\\Delta x = f(x) - x$, we can also write $x'$ as  \n",
    "\n",
    "$$\n",
    "x' = x + (1 + \\omega)[f(x) - x] = (1 + \\omega) f(x) - \\omega x,\n",
    "$$  \n",
    "\n",
    "which is the form in which it is usually written.  \n",
    "\n",
    "For the method to work the value of $\\omega$ must be chosen correctly, although there is some wiggle room—there is an optimal value, but other values close to it will typically also give good results. Unfortunately, there is no general theory that tells us what the optimal value is. Usually it is found by trial and error.  \n",
    "\n",
    "---\n",
    "\n",
    "**a)** Derive an equivalent of Eq. (6.81) for the overrelaxation method and hence show that the error on $x'$, the equivalent of Eq. (6.83), is given by  \n",
    "\n",
    "$$\n",
    "\\epsilon' \\simeq \\frac{x - x'}{1 - \\tfrac{1}{\\big[(1+\\omega) f'(x) - \\omega\\big]}}.\n",
    "$$"
   ]
  },
  {
   "cell_type": "markdown",
   "id": "453bdb22",
   "metadata": {},
   "source": [
    "**b)** Consider again the equation $x = 1 - e^{-c x}$ that we solved in Exercise 6.10.  \n",
    "Take the program you wrote for part (a) of that exercise, which solved the equation for the case $c = 2$, and modify it to print out the number of iterations it takes to converge to a solution accurate to $10^{-6}$."
   ]
  },
  {
   "cell_type": "code",
   "execution_count": 3,
   "id": "cef6dee5",
   "metadata": {},
   "outputs": [
    {
     "name": "stdout",
     "output_type": "stream",
     "text": [
      "0.864665\n",
      "0.822597\n",
      "0.807025\n",
      "0.800920\n",
      "0.798475\n",
      "0.797487\n",
      "0.797086\n",
      "0.796923\n",
      "0.796857\n",
      "0.796831\n",
      "0.796820\n",
      "0.796815\n",
      "0.796813\n",
      "\n",
      "Converges to 0.796813 after 13 iterations with error tolerance of 1e-06.\n"
     ]
    }
   ],
   "source": [
    "# Relaxation method\n",
    "# x = initial guess\n",
    "# f = function\n",
    "# etol = error tolerance\n",
    "def relaxation(f, x, etol):\n",
    "    i = 0\n",
    "    while np.abs((f(x)-x)/f(x)) > etol:\n",
    "        x = f(x)\n",
    "        i+=1\n",
    "        print(f\"{x:.6f}\")\n",
    "    print(f\"\\nConverges to {x:.6f} after {i} iterations with error tolerance of {etol}.\")\n",
    "\n",
    "x = 1 # initial guess\n",
    "etol=1e-6 # define tolerance\n",
    "relaxation(function_610, x, etol)"
   ]
  },
  {
   "cell_type": "markdown",
   "id": "ccd39f1b",
   "metadata": {},
   "source": [
    "**c)** Now write a new program (or modify the previous one) to solve the same equation $x = 1 - e^{-c x}$ for $c = 2$, again to an accuracy of $10^{-6}$, but this time using **overrelaxation**.  \n",
    "Have your program print out the answers it finds along with the number of iterations it took to find them. Experiment with different values of $\\omega$ to see how fast you can get the method to converge. A value of $\\omega = 0.5$ is a reasonable starting point. With some trial and error you should be able to get the calculation to converge at least twice as fast as the simple relaxation method, i.e., in about half as many iterations."
   ]
  },
  {
   "cell_type": "code",
   "execution_count": 4,
   "id": "8f496e9a",
   "metadata": {},
   "outputs": [
    {
     "name": "stdout",
     "output_type": "stream",
     "text": [
      "0.796997\n",
      "0.796832\n",
      "0.796814\n",
      "0.796812\n",
      "\n",
      "Converges to 0.796812 after 4 iterations with error tolerance of 1e-06.\n"
     ]
    }
   ],
   "source": [
    "# Overrelaxation method\n",
    "# x = initial guess\n",
    "# omega = omega\n",
    "# f = function\n",
    "# etol = error tolerance\n",
    "def overrelaxation(f, x, omega, etol):\n",
    "    i = 0\n",
    "    while np.abs((f(x)-x)/f(x)) > etol:\n",
    "        x = (1+omega)*f(x) - omega*x\n",
    "        i+=1\n",
    "        print(f\"{x:.6f}\")\n",
    "    print(f\"\\nConverges to {x:.6f} after {i} iterations with error tolerance of {etol}.\")\n",
    "\n",
    "x = 1 # initial guess\n",
    "omega = 0.5\n",
    "etol = 1e-6\n",
    "overrelaxation(function_610, x, omega, etol)"
   ]
  },
  {
   "cell_type": "markdown",
   "id": "f2165071",
   "metadata": {},
   "source": [
    "**d)** Are there any circumstances under which using a value $\\omega < 0$ would help us find a solution faster than we can with the ordinary relaxation method?  \n",
    "(*Hint: The answer is yes, but why?*)\n"
   ]
  },
  {
   "cell_type": "markdown",
   "id": "cea42f6b",
   "metadata": {},
   "source": [
    "### Exercise 6.13: Wien’s displacement constant\n",
    "\n",
    "Planck’s radiation law tells us that the intensity of radiation per unit area and per unit wavelength λ from a black body at temperature T is\n",
    "$$\n",
    "I(\\lambda) = \\frac{2\\pi h c^2 \\lambda^{-5}}{e^\\frac{hc}{\\lambda k_B T} - 1},\n",
    "$$\n",
    "\n",
    "where $h$ is Planck’s constant, $c$ is the speed of light, and $k_B$ is Boltzmann’s constant.\n",
    "\n",
    "---\n",
    "\n",
    "**a)** Show by differentiating that the wavelength λ at which the emitted radiation is strongest is the solution of the equation\n",
    "\n",
    "$$\n",
    "5e^\\frac{-hc}{\\lambda k_B T} + \\frac{hc}{\\lambda k_B T} - 5 = 0.\n",
    "$$\n",
    "\n",
    "Make the substitution $x = \\frac{hc}{\\lambda k_B T}$ and hence show that the wavelength of maximum radiation obeys the *Wien displacement law*:\n",
    "\n",
    "$$\n",
    "\\lambda = \\frac{b}{T},\n",
    "$$\n",
    "\n",
    "where the so-called *Wien displacement constant* is $b = \\frac{hc}{k_B} x$, and $x$ is the solution to the nonlinear equation\n",
    "\n",
    "$$\n",
    "5e^{-x} + x - 5 = 0.\n",
    "$$"
   ]
  },
  {
   "cell_type": "markdown",
   "id": "d2a908b0",
   "metadata": {},
   "source": [
    "**b)** Write a program to solve this equation to an accuracy of $\\varepsilon = 10^{-6}$ using the binary search method, and hence find a value for the displacement constant."
   ]
  },
  {
   "cell_type": "code",
   "execution_count": 5,
   "id": "20265b46",
   "metadata": {},
   "outputs": [
    {
     "name": "stdout",
     "output_type": "stream",
     "text": [
      "Calculated x = 4.9651 after 17 iterations with constant b = 2.8978 mm K.\n"
     ]
    }
   ],
   "source": [
    "import math\n",
    "\n",
    "def f(x):\n",
    "    return 5.0*math.exp(-x) + x - 5.0\n",
    "\n",
    "def bisection(a, b, tol=1e-6, max_iter=10_000):\n",
    "    fa, fb = f(a), f(b)\n",
    "    if fa*fb > 0:\n",
    "        raise ValueError(\"f(a) and f(b) must have opposite signs\")\n",
    "    it = 0\n",
    "    while (b - a) / 2.0 > tol and it < max_iter:\n",
    "        c = (a + b) / 2.0\n",
    "        fc = f(c)\n",
    "        if fc == 0:\n",
    "            a = b = c\n",
    "            break\n",
    "        if fa * fc < 0:\n",
    "            b, fb = c, fc\n",
    "        else:\n",
    "            a, fa = c, fc\n",
    "        it += 1\n",
    "    x_root = (a + b) / 2.0\n",
    "    return x_root, it\n",
    "\n",
    "# Solve for x\n",
    "x_root, iterations = bisection(4.9, 5.1, tol=1e-6)\n",
    "\n",
    "# Physical constants\n",
    "h  = 6.62607015e-34 # Planck constant (J*s)\n",
    "c  = 299792458.0 # speed of light (m/s)\n",
    "k_B = 1.380649e-23 # Boltzmann constant (J/K)\n",
    "\n",
    "# Wien displacement constant b\n",
    "b_const = (h * c)/(k_B * x_root)   # in m*K\n",
    "\n",
    "print(f\"Calculated x = {x_root:.4f} after {iterations} iterations with constant b = {b_const*1e3:.4f} mm K.\")"
   ]
  },
  {
   "cell_type": "markdown",
   "id": "5c964384",
   "metadata": {},
   "source": [
    "**c)** The displacement law is the basis for the method of *optical pyrometry*, a method for measuring the temperatures of objects by observing the color of the thermal radiation they emit. The method is commonly used to estimate the surface temperatures of astronomical bodies, such as the Sun. The wavelength peak in the Sun’s emitted radiation falls at $\\lambda = 502 \\,\\text{nm}$. From the equations above and your value of the displacement constant, estimate the surface temperature of the Sun."
   ]
  },
  {
   "cell_type": "code",
   "execution_count": 6,
   "id": "d72aaa95",
   "metadata": {},
   "outputs": [
    {
     "name": "stdout",
     "output_type": "stream",
     "text": [
      "Sun temperature from peak wavelength 502 nm is T = 5772.4537 Kelvin.\n"
     ]
    }
   ],
   "source": [
    "lambda_peak = 502e-9 # meters\n",
    "T_sun = b_const / lambda_peak  # Kelvin\n",
    "\n",
    "print(f\"Sun temperature from peak wavelength 502 nm is T = {T_sun:.4f} Kelvin.\")"
   ]
  }
 ],
 "metadata": {
  "kernelspec": {
   "display_name": "Python 3 (ipykernel)",
   "language": "python",
   "name": "python3"
  },
  "language_info": {
   "codemirror_mode": {
    "name": "ipython",
    "version": 3
   },
   "file_extension": ".py",
   "mimetype": "text/x-python",
   "name": "python",
   "nbconvert_exporter": "python",
   "pygments_lexer": "ipython3",
   "version": "3.11.4"
  }
 },
 "nbformat": 4,
 "nbformat_minor": 5
}
